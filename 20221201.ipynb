{
 "cells": [
  {
   "cell_type": "code",
   "execution_count": 12,
   "id": "20af6b15",
   "metadata": {},
   "outputs": [],
   "source": [
    "import pymysql\n",
    "\n",
    "db_hostname = 'study-db.c9o8vg6n5iat.ap-northeast-2.rds.amazonaws.com'\n",
    "db_port = 3306\n",
    "db_user = 'admin'\n",
    "db_passwd = '1q2w3e4r%t'\n",
    "db_instance = 'bestproducts'\n",
    "db_charset= 'utf8'\n",
    "\n",
    "db = pymysql.connect(host=db_hostname, port=db_port, user=db_user, passwd=db_passwd, db=db_instance, charset=db_charset)\n"
   ]
  },
  {
   "cell_type": "code",
   "execution_count": 2,
   "id": "7460a76b",
   "metadata": {},
   "outputs": [
    {
     "name": "stdout",
     "output_type": "stream",
     "text": [
      "<pymysql.connections.Connection object at 0x000001A5117854C0>\n"
     ]
    }
   ],
   "source": [
    "print(db)"
   ]
  },
  {
   "cell_type": "code",
   "execution_count": 3,
   "id": "62f10b9b",
   "metadata": {},
   "outputs": [],
   "source": [
    "cursor = db.cursor()"
   ]
  },
  {
   "cell_type": "code",
   "execution_count": 10,
   "id": "cdef507c",
   "metadata": {},
   "outputs": [],
   "source": [
    "db.close()"
   ]
  },
  {
   "cell_type": "code",
   "execution_count": 4,
   "id": "68f0143a",
   "metadata": {},
   "outputs": [],
   "source": [
    "sql_ranking = \"\"\"\n",
    "create table ranking (\n",
    "    num int auto_increment not null primary key,\n",
    "    main_category varchar(50) not null,\n",
    "    sub_category varchar(50) not null,\n",
    "    item_ranking tinyint unsigned not null,\n",
    "    item_code varchar(20) not null,\n",
    "    foreign key (item_code) references items(item_code)\n",
    ");\n",
    "\"\"\""
   ]
  },
  {
   "cell_type": "code",
   "execution_count": 5,
   "id": "df434557",
   "metadata": {},
   "outputs": [],
   "source": [
    "sql_ranking2 = \"\"\"\n",
    "CREATE TABLE ranking (\n",
    "    num INT AUTO_INCREMENT NOT NULL PRIMARY KEY,\n",
    "    main_category VARCHAR(50) NOT NULL,\n",
    "    sub_category VARCHAR(50) NOT NULL,\n",
    "    item_ranking TINYINT UNSIGNED NOT NULL,\n",
    "    item_code VARCHAR(20) NOT NULL,\n",
    "    FOREIGN KEY (item_code) REFERENCES items(item_code)\n",
    ");\n",
    "\"\"\""
   ]
  },
  {
   "cell_type": "code",
   "execution_count": 6,
   "id": "01085148",
   "metadata": {},
   "outputs": [],
   "source": [
    "sql_items = \"\"\"\n",
    "create table items (\n",
    "    item_code varchar(20) not null primary key,\n",
    "    title varchar(200) not null,\n",
    "    ori_price int not null,\n",
    "    dis_price int not null,\n",
    "    discount_percent int not null,\n",
    "    provider varchar(100)\n",
    ");\n",
    "\"\"\""
   ]
  },
  {
   "cell_type": "code",
   "execution_count": 9,
   "id": "8caffda2",
   "metadata": {
    "scrolled": true
   },
   "outputs": [
    {
     "data": {
      "text/plain": [
       "0"
      ]
     },
     "execution_count": 9,
     "metadata": {},
     "output_type": "execute_result"
    }
   ],
   "source": [
    "cursor.execute(sql_ranking2)"
   ]
  },
  {
   "cell_type": "code",
   "execution_count": 8,
   "id": "3df723f5",
   "metadata": {},
   "outputs": [
    {
     "data": {
      "text/plain": [
       "0"
      ]
     },
     "execution_count": 8,
     "metadata": {},
     "output_type": "execute_result"
    }
   ],
   "source": [
    "cursor.execute(sql_items)"
   ]
  },
  {
   "cell_type": "code",
   "execution_count": 10,
   "id": "ac02d0fa",
   "metadata": {},
   "outputs": [],
   "source": [
    "db.commit()"
   ]
  },
  {
   "cell_type": "code",
   "execution_count": 11,
   "id": "25750121",
   "metadata": {},
   "outputs": [],
   "source": [
    "db.close()"
   ]
  },
  {
   "cell_type": "code",
   "execution_count": 12,
   "id": "0b52dfd4",
   "metadata": {},
   "outputs": [
    {
     "name": "stdout",
     "output_type": "stream",
     "text": [
      "https://corners.gmarket.co.kr/Bestsellers ALL\n",
      "https://corners.gmarket.co.kr/Bestsellers?viewType=G&groupCode=G01 패션의류\n",
      "https://corners.gmarket.co.kr/Bestsellers?viewType=G&groupCode=G02 신발/잡화\n",
      "https://corners.gmarket.co.kr/Bestsellers?viewType=G&groupCode=G03 화장품/헤어\n",
      "https://corners.gmarket.co.kr/Bestsellers?viewType=G&groupCode=G04 유아동/출산\n",
      "https://corners.gmarket.co.kr/Bestsellers?viewType=G&groupCode=G07 식품\n",
      "https://corners.gmarket.co.kr/Bestsellers?viewType=G&groupCode=G08 생활/주방/건강\n",
      "https://corners.gmarket.co.kr/Bestsellers?viewType=G&groupCode=G09 가구/침구\n",
      "https://corners.gmarket.co.kr/Bestsellers?viewType=G&groupCode=G05 스포츠/자동차\n",
      "https://corners.gmarket.co.kr/Bestsellers?viewType=G&groupCode=G06 컴퓨터/전자\n",
      "https://corners.gmarket.co.kr/Bestsellers?viewType=G&groupCode=G10 도서/음반\n",
      "https://corners.gmarket.co.kr/Bestsellers?viewType=G&groupCode=G11 여행\n",
      "https://corners.gmarket.co.kr/Bestsellers?viewType=G&groupCode=G12 e쿠폰/티켓\n"
     ]
    }
   ],
   "source": [
    "import requests\n",
    "from bs4 import BeautifulSoup\n",
    "\n",
    "res = requests.get('https://corners.gmarket.co.kr/Bestsellers')\n",
    "soup = BeautifulSoup(res.content, 'html.parser')\n",
    "\n",
    "#print(soup)\n",
    "\n",
    "categories = soup.select('div.gbest-cate ul.by-group li a')\n",
    "\n",
    "\n",
    "\n",
    "for category in categories:\n",
    "    print('https://corners.gmarket.co.kr'+ category['href'], category.get_text())"
   ]
  },
  {
   "cell_type": "markdown",
   "id": "d9779144",
   "metadata": {},
   "source": [
    "#### main/sub category 정보 가져오기####"
   ]
  },
  {
   "cell_type": "code",
   "execution_count": 56,
   "id": "8007840f",
   "metadata": {},
   "outputs": [],
   "source": [
    "def get_category(category_link, category_name):\n",
    "    #print(category_link, category_name)\n",
    "    res = requests.get(category_link)\n",
    "    soup = BeautifulSoup(res.content,'html.parser')\n",
    "    \n",
    "    sub_categories = soup.select('div.navi.group ul li a')\n",
    "    \n",
    "    #for sub_category in sub_categories:\n",
    "        #sub_category_name = sub_category.get_text()\n",
    "        #print(category_link, category_name, sub_category.get_text(), 'https://corners.gmarket.co.kr'+ sub_category['href'])\n",
    "        #get_items(sub_category, category_name, sub_category_name)"
   ]
  },
  {
   "cell_type": "code",
   "execution_count": 57,
   "id": "575cb698",
   "metadata": {},
   "outputs": [],
   "source": [
    "# html_data = soup\n",
    "\n",
    "def get_items(html_data, category_name, sub_category_name):\n",
    "    items_result = list()\n",
    "    \n",
    "    print(html_data)\n",
    "    best_items = html_data.select('div.best-list')\n",
    "    \n",
    "    print(best_items)\n",
    "    "
   ]
  },
  {
   "cell_type": "code",
   "execution_count": 59,
   "id": "6749bede",
   "metadata": {},
   "outputs": [
    {
     "name": "stdout",
     "output_type": "stream",
     "text": [
      "https://corners.gmarket.co.kr/Bestsellers ALL\n",
      "https://corners.gmarket.co.kr/Bestsellers?viewType=G&groupCode=G01 패션의류 브랜드 남성의류 https://corners.gmarket.co.kr/Bestsellers?viewType=G&groupCode=G01&subGroupCode=S162\n",
      "https://corners.gmarket.co.kr/Bestsellers?viewType=G&groupCode=G01 패션의류 브랜드 진/캐쥬얼  https://corners.gmarket.co.kr/Bestsellers?viewType=G&groupCode=G01&subGroupCode=S163\n",
      "https://corners.gmarket.co.kr/Bestsellers?viewType=G&groupCode=G01 패션의류 여성의류 https://corners.gmarket.co.kr/Bestsellers?viewType=G&groupCode=G01&subGroupCode=S102\n",
      "https://corners.gmarket.co.kr/Bestsellers?viewType=G&groupCode=G01 패션의류 남성의류 https://corners.gmarket.co.kr/Bestsellers?viewType=G&groupCode=G01&subGroupCode=S002\n",
      "https://corners.gmarket.co.kr/Bestsellers?viewType=G&groupCode=G01 패션의류 언더웨어 https://corners.gmarket.co.kr/Bestsellers?viewType=G&groupCode=G01&subGroupCode=S088\n",
      "https://corners.gmarket.co.kr/Bestsellers?viewType=G&groupCode=G01 패션의류 브랜드 여성의류 https://corners.gmarket.co.kr/Bestsellers?viewType=G&groupCode=G01&subGroupCode=S161\n",
      "https://corners.gmarket.co.kr/Bestsellers?viewType=G&groupCode=G01 패션의류\n",
      "https://corners.gmarket.co.kr/Bestsellers?viewType=G&groupCode=G02 신발/잡화 여성신발 https://corners.gmarket.co.kr/Bestsellers?viewType=G&groupCode=G02&subGroupCode=S004\n",
      "https://corners.gmarket.co.kr/Bestsellers?viewType=G&groupCode=G02 신발/잡화 수입명품 https://corners.gmarket.co.kr/Bestsellers?viewType=G&groupCode=G02&subGroupCode=S134\n",
      "https://corners.gmarket.co.kr/Bestsellers?viewType=G&groupCode=G02 신발/잡화 가방/지갑 https://corners.gmarket.co.kr/Bestsellers?viewType=G&groupCode=G02&subGroupCode=S008\n",
      "https://corners.gmarket.co.kr/Bestsellers?viewType=G&groupCode=G02 신발/잡화 운동화 https://corners.gmarket.co.kr/Bestsellers?viewType=G&groupCode=G02&subGroupCode=S007\n",
      "https://corners.gmarket.co.kr/Bestsellers?viewType=G&groupCode=G02 신발/잡화 브랜드 신발/가방 https://corners.gmarket.co.kr/Bestsellers?viewType=G&groupCode=G02&subGroupCode=S166\n",
      "https://corners.gmarket.co.kr/Bestsellers?viewType=G&groupCode=G02 신발/잡화 브랜드 쥬얼리/시계 https://corners.gmarket.co.kr/Bestsellers?viewType=G&groupCode=G02&subGroupCode=S167\n",
      "https://corners.gmarket.co.kr/Bestsellers?viewType=G&groupCode=G02 신발/잡화 남성신발 https://corners.gmarket.co.kr/Bestsellers?viewType=G&groupCode=G02&subGroupCode=S005\n",
      "https://corners.gmarket.co.kr/Bestsellers?viewType=G&groupCode=G02 신발/잡화 잡화/액세서리 https://corners.gmarket.co.kr/Bestsellers?viewType=G&groupCode=G02&subGroupCode=S127\n",
      "https://corners.gmarket.co.kr/Bestsellers?viewType=G&groupCode=G02 신발/잡화 여행가방 https://corners.gmarket.co.kr/Bestsellers?viewType=G&groupCode=G02&subGroupCode=S172\n",
      "https://corners.gmarket.co.kr/Bestsellers?viewType=G&groupCode=G02 신발/잡화\n",
      "https://corners.gmarket.co.kr/Bestsellers?viewType=G&groupCode=G03 화장품/헤어 향수 https://corners.gmarket.co.kr/Bestsellers?viewType=G&groupCode=G03&subGroupCode=S012\n",
      "https://corners.gmarket.co.kr/Bestsellers?viewType=G&groupCode=G03 화장품/헤어 바디클렌져/바디로션 https://corners.gmarket.co.kr/Bestsellers?viewType=G&groupCode=G03&subGroupCode=S013\n",
      "https://corners.gmarket.co.kr/Bestsellers?viewType=G&groupCode=G03 화장품/헤어 화장소품 https://corners.gmarket.co.kr/Bestsellers?viewType=G&groupCode=G03&subGroupCode=S016\n",
      "https://corners.gmarket.co.kr/Bestsellers?viewType=G&groupCode=G03 화장품/헤어 화장품 https://corners.gmarket.co.kr/Bestsellers?viewType=G&groupCode=G03&subGroupCode=S011\n",
      "https://corners.gmarket.co.kr/Bestsellers?viewType=G&groupCode=G03 화장품/헤어 남성화장품 https://corners.gmarket.co.kr/Bestsellers?viewType=G&groupCode=G03&subGroupCode=S055\n",
      "https://corners.gmarket.co.kr/Bestsellers?viewType=G&groupCode=G03 화장품/헤어 샴푸/헤어에센스/스타일링 https://corners.gmarket.co.kr/Bestsellers?viewType=G&groupCode=G03&subGroupCode=S014\n",
      "https://corners.gmarket.co.kr/Bestsellers?viewType=G&groupCode=G03 화장품/헤어 보습제품 https://corners.gmarket.co.kr/Bestsellers?viewType=G&groupCode=G03&subGroupCode=S081\n",
      "https://corners.gmarket.co.kr/Bestsellers?viewType=G&groupCode=G03 화장품/헤어 제모/데오드란트/슬리밍 https://corners.gmarket.co.kr/Bestsellers?viewType=G&groupCode=G03&subGroupCode=S069\n",
      "https://corners.gmarket.co.kr/Bestsellers?viewType=G&groupCode=G03 화장품/헤어\n",
      "https://corners.gmarket.co.kr/Bestsellers?viewType=G&groupCode=G04 유아동/출산 유아동신발  https://corners.gmarket.co.kr/Bestsellers?viewType=G&groupCode=G04&subGroupCode=S132\n",
      "https://corners.gmarket.co.kr/Bestsellers?viewType=G&groupCode=G04 유아동/출산 홈플러스 베이비 https://corners.gmarket.co.kr/Bestsellers?viewType=G&groupCode=G04&subGroupCode=S158\n",
      "https://corners.gmarket.co.kr/Bestsellers?viewType=G&groupCode=G04 유아동/출산 물티슈 https://corners.gmarket.co.kr/Bestsellers?viewType=G&groupCode=G04&subGroupCode=S020\n",
      "https://corners.gmarket.co.kr/Bestsellers?viewType=G&groupCode=G04 유아동/출산 출산/유아용품 https://corners.gmarket.co.kr/Bestsellers?viewType=G&groupCode=G04&subGroupCode=S018\n",
      "https://corners.gmarket.co.kr/Bestsellers?viewType=G&groupCode=G04 유아동/출산 임부복/용품 https://corners.gmarket.co.kr/Bestsellers?viewType=G&groupCode=G04&subGroupCode=S062\n",
      "https://corners.gmarket.co.kr/Bestsellers?viewType=G&groupCode=G04 유아동/출산 유아동의류 https://corners.gmarket.co.kr/Bestsellers?viewType=G&groupCode=G04&subGroupCode=S064\n",
      "https://corners.gmarket.co.kr/Bestsellers?viewType=G&groupCode=G04 유아동/출산 장난감/완구 https://corners.gmarket.co.kr/Bestsellers?viewType=G&groupCode=G04&subGroupCode=S076\n",
      "https://corners.gmarket.co.kr/Bestsellers?viewType=G&groupCode=G04 유아동/출산 기저귀 https://corners.gmarket.co.kr/Bestsellers?viewType=G&groupCode=G04&subGroupCode=S017\n",
      "https://corners.gmarket.co.kr/Bestsellers?viewType=G&groupCode=G04 유아동/출산 분유/이유식 https://corners.gmarket.co.kr/Bestsellers?viewType=G&groupCode=G04&subGroupCode=S063\n",
      "https://corners.gmarket.co.kr/Bestsellers?viewType=G&groupCode=G04 유아동/출산 신생아의류/잡화 https://corners.gmarket.co.kr/Bestsellers?viewType=G&groupCode=G04&subGroupCode=S131\n",
      "https://corners.gmarket.co.kr/Bestsellers?viewType=G&groupCode=G04 유아동/출산 유아동가방/잡화  https://corners.gmarket.co.kr/Bestsellers?viewType=G&groupCode=G04&subGroupCode=S133\n",
      "https://corners.gmarket.co.kr/Bestsellers?viewType=G&groupCode=G04 유아동/출산  https://corners.gmarket.co.kr/bestseller/BestSellerList.asp?group_kind=G&group_cd=G10&groupSub_kind=GS&groupSub_cd=S073\n",
      "https://corners.gmarket.co.kr/Bestsellers?viewType=G&groupCode=G04 유아동/출산\n",
      "https://corners.gmarket.co.kr/Bestsellers?viewType=G&groupCode=G07 식품 쌀/잡곡 https://corners.gmarket.co.kr/Bestsellers?viewType=G&groupCode=G07&subGroupCode=S031\n",
      "https://corners.gmarket.co.kr/Bestsellers?viewType=G&groupCode=G07 식품 생수/커피/음료 https://corners.gmarket.co.kr/Bestsellers?viewType=G&groupCode=G07&subGroupCode=S105\n",
      "https://corners.gmarket.co.kr/Bestsellers?viewType=G&groupCode=G07 식품 간편조리/간식 https://corners.gmarket.co.kr/Bestsellers?viewType=G&groupCode=G07&subGroupCode=S106\n",
      "https://corners.gmarket.co.kr/Bestsellers?viewType=G&groupCode=G07 식품 홈플러스 식품 https://corners.gmarket.co.kr/Bestsellers?viewType=G&groupCode=G07&subGroupCode=S160\n",
      "https://corners.gmarket.co.kr/Bestsellers?viewType=G&groupCode=G07 식품 정관장/홍삼 https://corners.gmarket.co.kr/Bestsellers?viewType=G&groupCode=G07&subGroupCode=S108\n",
      "https://corners.gmarket.co.kr/Bestsellers?viewType=G&groupCode=G07 식품 김치/반찬 https://corners.gmarket.co.kr/Bestsellers?viewType=G&groupCode=G07&subGroupCode=S104\n",
      "https://corners.gmarket.co.kr/Bestsellers?viewType=G&groupCode=G07 식품 수산 https://corners.gmarket.co.kr/Bestsellers?viewType=G&groupCode=G07&subGroupCode=S090\n",
      "https://corners.gmarket.co.kr/Bestsellers?viewType=G&groupCode=G07 식품 과일/견과 https://corners.gmarket.co.kr/Bestsellers?viewType=G&groupCode=G07&subGroupCode=S103\n",
      "https://corners.gmarket.co.kr/Bestsellers?viewType=G&groupCode=G07 식품 캔/오일/조미료 https://corners.gmarket.co.kr/Bestsellers?viewType=G&groupCode=G07&subGroupCode=S107\n",
      "https://corners.gmarket.co.kr/Bestsellers?viewType=G&groupCode=G07 식품 건강 https://corners.gmarket.co.kr/Bestsellers?viewType=G&groupCode=G07&subGroupCode=S033\n",
      "https://corners.gmarket.co.kr/Bestsellers?viewType=G&groupCode=G07 식품 채소 https://corners.gmarket.co.kr/Bestsellers?viewType=G&groupCode=G07&subGroupCode=S147\n",
      "https://corners.gmarket.co.kr/Bestsellers?viewType=G&groupCode=G07 식품 다이어트 https://corners.gmarket.co.kr/Bestsellers?viewType=G&groupCode=G07&subGroupCode=S092\n",
      "https://corners.gmarket.co.kr/Bestsellers?viewType=G&groupCode=G07 식품 축산 https://corners.gmarket.co.kr/Bestsellers?viewType=G&groupCode=G07&subGroupCode=S089\n",
      "https://corners.gmarket.co.kr/Bestsellers?viewType=G&groupCode=G07 식품  https://corners.gmarket.co.kr/bestseller/BestSellerList.asp?group_kind=G&group_cd=G04&groupSub_kind=GS&groupSub_cd=S063\n",
      "https://corners.gmarket.co.kr/Bestsellers?viewType=G&groupCode=G07 식품\n"
     ]
    },
    {
     "name": "stdout",
     "output_type": "stream",
     "text": [
      "https://corners.gmarket.co.kr/Bestsellers?viewType=G&groupCode=G08 생활/주방/건강 반려동물용품 https://corners.gmarket.co.kr/Bestsellers?viewType=G&groupCode=G08&subGroupCode=S137\n",
      "https://corners.gmarket.co.kr/Bestsellers?viewType=G&groupCode=G08 생활/주방/건강 공구설비/자재 https://corners.gmarket.co.kr/Bestsellers?viewType=G&groupCode=G08&subGroupCode=S145\n",
      "https://corners.gmarket.co.kr/Bestsellers?viewType=G&groupCode=G08 생활/주방/건강 마스크(성인/유아동) https://corners.gmarket.co.kr/Bestsellers?viewType=G&groupCode=G08&subGroupCode=S184\n",
      "https://corners.gmarket.co.kr/Bestsellers?viewType=G&groupCode=G08 생활/주방/건강 손소독제/소독기기 https://corners.gmarket.co.kr/Bestsellers?viewType=G&groupCode=G08&subGroupCode=S185\n",
      "https://corners.gmarket.co.kr/Bestsellers?viewType=G&groupCode=G08 생활/주방/건강 위생용품 https://corners.gmarket.co.kr/Bestsellers?viewType=G&groupCode=G08&subGroupCode=S037\n",
      "https://corners.gmarket.co.kr/Bestsellers?viewType=G&groupCode=G08 생활/주방/건강 세제/세면용품 https://corners.gmarket.co.kr/Bestsellers?viewType=G&groupCode=G08&subGroupCode=S066\n",
      "https://corners.gmarket.co.kr/Bestsellers?viewType=G&groupCode=G08 생활/주방/건강 문구/사무용품 https://corners.gmarket.co.kr/Bestsellers?viewType=G&groupCode=G08&subGroupCode=S040\n",
      "https://corners.gmarket.co.kr/Bestsellers?viewType=G&groupCode=G08 생활/주방/건강 렌탈 서비스 https://corners.gmarket.co.kr/Bestsellers?viewType=G&groupCode=G08&subGroupCode=S173\n",
      "https://corners.gmarket.co.kr/Bestsellers?viewType=G&groupCode=G08 생활/주방/건강 주방용품 https://corners.gmarket.co.kr/Bestsellers?viewType=G&groupCode=G08&subGroupCode=S034\n",
      "https://corners.gmarket.co.kr/Bestsellers?viewType=G&groupCode=G08 생활/주방/건강 건강/의료용품 https://corners.gmarket.co.kr/Bestsellers?viewType=G&groupCode=G08&subGroupCode=S146\n",
      "https://corners.gmarket.co.kr/Bestsellers?viewType=G&groupCode=G08 생활/주방/건강 수납/생활용품 https://corners.gmarket.co.kr/Bestsellers?viewType=G&groupCode=G08&subGroupCode=S035\n",
      "https://corners.gmarket.co.kr/Bestsellers?viewType=G&groupCode=G08 생활/주방/건강 화장지/일용잡화 https://corners.gmarket.co.kr/Bestsellers?viewType=G&groupCode=G08&subGroupCode=S067\n",
      "https://corners.gmarket.co.kr/Bestsellers?viewType=G&groupCode=G08 생활/주방/건강 악기/취미/원예용품 https://corners.gmarket.co.kr/Bestsellers?viewType=G&groupCode=G08&subGroupCode=S038\n",
      "https://corners.gmarket.co.kr/Bestsellers?viewType=G&groupCode=G08 생활/주방/건강\n",
      "https://corners.gmarket.co.kr/Bestsellers?viewType=G&groupCode=G09 가구/침구 침구 https://corners.gmarket.co.kr/Bestsellers?viewType=G&groupCode=G09&subGroupCode=S042\n",
      "https://corners.gmarket.co.kr/Bestsellers?viewType=G&groupCode=G09 가구/침구 홈패션/인테리어소품 https://corners.gmarket.co.kr/Bestsellers?viewType=G&groupCode=G09&subGroupCode=S043\n",
      "https://corners.gmarket.co.kr/Bestsellers?viewType=G&groupCode=G09 가구/침구 커튼/블라인드 https://corners.gmarket.co.kr/Bestsellers?viewType=G&groupCode=G09&subGroupCode=S071\n",
      "https://corners.gmarket.co.kr/Bestsellers?viewType=G&groupCode=G09 가구/침구 가구 https://corners.gmarket.co.kr/Bestsellers?viewType=G&groupCode=G09&subGroupCode=S041\n",
      "https://corners.gmarket.co.kr/Bestsellers?viewType=G&groupCode=G09 가구/침구\n",
      "https://corners.gmarket.co.kr/Bestsellers?viewType=G&groupCode=G05 스포츠/자동차 스포츠의류/운동화 https://corners.gmarket.co.kr/Bestsellers?viewType=G&groupCode=G05&subGroupCode=S174\n",
      "https://corners.gmarket.co.kr/Bestsellers?viewType=G&groupCode=G05 스포츠/자동차 골프 https://corners.gmarket.co.kr/Bestsellers?viewType=G&groupCode=G05&subGroupCode=S023\n",
      "https://corners.gmarket.co.kr/Bestsellers?viewType=G&groupCode=G05 스포츠/자동차 캠핑/낚시 https://corners.gmarket.co.kr/Bestsellers?viewType=G&groupCode=G05&subGroupCode=S179\n",
      "https://corners.gmarket.co.kr/Bestsellers?viewType=G&groupCode=G05 스포츠/자동차 자동차용품 https://corners.gmarket.co.kr/Bestsellers?viewType=G&groupCode=G05&subGroupCode=S024\n",
      "https://corners.gmarket.co.kr/Bestsellers?viewType=G&groupCode=G05 스포츠/자동차 휘트니스/수영 https://corners.gmarket.co.kr/Bestsellers?viewType=G&groupCode=G05&subGroupCode=S176\n",
      "https://corners.gmarket.co.kr/Bestsellers?viewType=G&groupCode=G05 스포츠/자동차 자전거/보드/기타레저 https://corners.gmarket.co.kr/Bestsellers?viewType=G&groupCode=G05&subGroupCode=S178\n",
      "https://corners.gmarket.co.kr/Bestsellers?viewType=G&groupCode=G05 스포츠/자동차 등산/아웃도어 https://corners.gmarket.co.kr/Bestsellers?viewType=G&groupCode=G05&subGroupCode=S180\n",
      "https://corners.gmarket.co.kr/Bestsellers?viewType=G&groupCode=G05 스포츠/자동차 구기/라켓 https://corners.gmarket.co.kr/Bestsellers?viewType=G&groupCode=G05&subGroupCode=S177\n",
      "https://corners.gmarket.co.kr/Bestsellers?viewType=G&groupCode=G05 스포츠/자동차\n",
      "https://corners.gmarket.co.kr/Bestsellers?viewType=G&groupCode=G06 컴퓨터/전자 디지털 액세서리 https://corners.gmarket.co.kr/Bestsellers?viewType=G&groupCode=G06&subGroupCode=S112\n",
      "https://corners.gmarket.co.kr/Bestsellers?viewType=G&groupCode=G06 컴퓨터/전자 컴퓨터/용품 https://corners.gmarket.co.kr/Bestsellers?viewType=G&groupCode=G06&subGroupCode=S056\n",
      "https://corners.gmarket.co.kr/Bestsellers?viewType=G&groupCode=G06 컴퓨터/전자 저장장치  https://corners.gmarket.co.kr/Bestsellers?viewType=G&groupCode=G06&subGroupCode=S138\n",
      "https://corners.gmarket.co.kr/Bestsellers?viewType=G&groupCode=G06 컴퓨터/전자 휴대폰 https://corners.gmarket.co.kr/Bestsellers?viewType=G&groupCode=G06&subGroupCode=S065\n",
      "https://corners.gmarket.co.kr/Bestsellers?viewType=G&groupCode=G06 컴퓨터/전자 게임 https://corners.gmarket.co.kr/Bestsellers?viewType=G&groupCode=G06&subGroupCode=S058\n",
      "https://corners.gmarket.co.kr/Bestsellers?viewType=G&groupCode=G06 컴퓨터/전자 컴퓨터 사업자몰 https://corners.gmarket.co.kr/Bestsellers?viewType=G&groupCode=G06&subGroupCode=S169\n",
      "https://corners.gmarket.co.kr/Bestsellers?viewType=G&groupCode=G06 컴퓨터/전자 노트북/태블릿 https://corners.gmarket.co.kr/Bestsellers?viewType=G&groupCode=G06&subGroupCode=S141\n",
      "https://corners.gmarket.co.kr/Bestsellers?viewType=G&groupCode=G06 컴퓨터/전자 주방가전 https://corners.gmarket.co.kr/Bestsellers?viewType=G&groupCode=G06&subGroupCode=S142\n",
      "https://corners.gmarket.co.kr/Bestsellers?viewType=G&groupCode=G06 컴퓨터/전자 카메라 https://corners.gmarket.co.kr/Bestsellers?viewType=G&groupCode=G06&subGroupCode=S057\n",
      "https://corners.gmarket.co.kr/Bestsellers?viewType=G&groupCode=G06 컴퓨터/전자 헤드폰/이어폰 https://corners.gmarket.co.kr/Bestsellers?viewType=G&groupCode=G06&subGroupCode=S143\n",
      "https://corners.gmarket.co.kr/Bestsellers?viewType=G&groupCode=G06 컴퓨터/전자 영상가전 https://corners.gmarket.co.kr/Bestsellers?viewType=G&groupCode=G06&subGroupCode=S059\n",
      "https://corners.gmarket.co.kr/Bestsellers?viewType=G&groupCode=G06 컴퓨터/전자 생활/미용가전 https://corners.gmarket.co.kr/Bestsellers?viewType=G&groupCode=G06&subGroupCode=S060\n",
      "https://corners.gmarket.co.kr/Bestsellers?viewType=G&groupCode=G06 컴퓨터/전자 계절가전 https://corners.gmarket.co.kr/Bestsellers?viewType=G&groupCode=G06&subGroupCode=S061\n",
      "https://corners.gmarket.co.kr/Bestsellers?viewType=G&groupCode=G06 컴퓨터/전자 모니터/프린터 https://corners.gmarket.co.kr/Bestsellers?viewType=G&groupCode=G06&subGroupCode=S140\n",
      "https://corners.gmarket.co.kr/Bestsellers?viewType=G&groupCode=G06 컴퓨터/전자 MP3/스피커 https://corners.gmarket.co.kr/Bestsellers?viewType=G&groupCode=G06&subGroupCode=S144\n",
      "https://corners.gmarket.co.kr/Bestsellers?viewType=G&groupCode=G06 컴퓨터/전자 하이마트 https://corners.gmarket.co.krhttp://minishop.gmarket.co.kr/ehimart1\n",
      "https://corners.gmarket.co.kr/Bestsellers?viewType=G&groupCode=G06 컴퓨터/전자\n",
      "https://corners.gmarket.co.kr/Bestsellers?viewType=G&groupCode=G10 도서/음반 시/소설 https://corners.gmarket.co.kr/Bestsellers?viewType=G&groupCode=G10&subGroupCode=S044\n",
      "https://corners.gmarket.co.kr/Bestsellers?viewType=G&groupCode=G10 도서/음반 경제/경영/개발 https://corners.gmarket.co.kr/Bestsellers?viewType=G&groupCode=G10&subGroupCode=S093\n",
      "https://corners.gmarket.co.kr/Bestsellers?viewType=G&groupCode=G10 도서/음반 학습/수험 https://corners.gmarket.co.kr/Bestsellers?viewType=G&groupCode=G10&subGroupCode=S045\n",
      "https://corners.gmarket.co.kr/Bestsellers?viewType=G&groupCode=G10 도서/음반 어린이 https://corners.gmarket.co.kr/Bestsellers?viewType=G&groupCode=G10&subGroupCode=S073\n",
      "https://corners.gmarket.co.kr/Bestsellers?viewType=G&groupCode=G10 도서/음반 인문/사회/과학/IT https://corners.gmarket.co.kr/Bestsellers?viewType=G&groupCode=G10&subGroupCode=S094\n",
      "https://corners.gmarket.co.kr/Bestsellers?viewType=G&groupCode=G10 도서/음반 만화/잡지 https://corners.gmarket.co.kr/Bestsellers?viewType=G&groupCode=G10&subGroupCode=S096\n",
      "https://corners.gmarket.co.kr/Bestsellers?viewType=G&groupCode=G10 도서/음반 DVD https://corners.gmarket.co.kr/Bestsellers?viewType=G&groupCode=G10&subGroupCode=S074\n",
      "https://corners.gmarket.co.kr/Bestsellers?viewType=G&groupCode=G10 도서/음반 해외원서 https://corners.gmarket.co.kr/Bestsellers?viewType=G&groupCode=G10&subGroupCode=S097\n",
      "https://corners.gmarket.co.kr/Bestsellers?viewType=G&groupCode=G10 도서/음반 가정/생활/취미/레저 https://corners.gmarket.co.kr/Bestsellers?viewType=G&groupCode=G10&subGroupCode=S095\n",
      "https://corners.gmarket.co.kr/Bestsellers?viewType=G&groupCode=G10 도서/음반 음반 https://corners.gmarket.co.kr/Bestsellers?viewType=G&groupCode=G10&subGroupCode=S046\n",
      "https://corners.gmarket.co.kr/Bestsellers?viewType=G&groupCode=G10 도서/음반\n"
     ]
    },
    {
     "name": "stdout",
     "output_type": "stream",
     "text": [
      "https://corners.gmarket.co.kr/Bestsellers?viewType=G&groupCode=G11 여행 국내여행 https://corners.gmarket.co.kr/Bestsellers?viewType=G&groupCode=G11&subGroupCode=S047\n",
      "https://corners.gmarket.co.kr/Bestsellers?viewType=G&groupCode=G11 여행 여행소품 https://corners.gmarket.co.kr/Bestsellers?viewType=G&groupCode=G11&subGroupCode=S049\n",
      "https://corners.gmarket.co.kr/Bestsellers?viewType=G&groupCode=G11 여행 해외여행 https://corners.gmarket.co.kr/Bestsellers?viewType=G&groupCode=G11&subGroupCode=S048\n",
      "https://corners.gmarket.co.kr/Bestsellers?viewType=G&groupCode=G11 여행 G9 해외패키지 https://corners.gmarket.co.kr/Bestsellers?viewType=G&groupCode=G11&subGroupCode=S181\n",
      "https://corners.gmarket.co.kr/Bestsellers?viewType=G&groupCode=G11 여행\n",
      "https://corners.gmarket.co.kr/Bestsellers?viewType=G&groupCode=G12 e쿠폰/티켓 생활쿠폰 https://corners.gmarket.co.kr/Bestsellers?viewType=G&groupCode=G12&subGroupCode=S053\n",
      "https://corners.gmarket.co.kr/Bestsellers?viewType=G&groupCode=G12 e쿠폰/티켓 상품권 https://corners.gmarket.co.kr/Bestsellers?viewType=G&groupCode=G12&subGroupCode=S148\n",
      "https://corners.gmarket.co.kr/Bestsellers?viewType=G&groupCode=G12 e쿠폰/티켓 외식 https://corners.gmarket.co.kr/Bestsellers?viewType=G&groupCode=G12&subGroupCode=S051\n",
      "https://corners.gmarket.co.kr/Bestsellers?viewType=G&groupCode=G12 e쿠폰/티켓 모바일 상품권 https://corners.gmarket.co.kr/Bestsellers?viewType=G&groupCode=G12&subGroupCode=S135\n",
      "https://corners.gmarket.co.kr/Bestsellers?viewType=G&groupCode=G12 e쿠폰/티켓 온라인컨텐츠 https://corners.gmarket.co.kr/Bestsellers?viewType=G&groupCode=G12&subGroupCode=S052\n",
      "https://corners.gmarket.co.kr/Bestsellers?viewType=G&groupCode=G12 e쿠폰/티켓\n"
     ]
    }
   ],
   "source": [
    "import requests\n",
    "from bs4 import BeautifulSoup\n",
    "\n",
    "res = requests.get('https://corners.gmarket.co.kr/Bestsellers')\n",
    "soup = BeautifulSoup(res.content, 'html.parser')\n",
    "\n",
    "#print(soup)\n",
    "\n",
    "categories = soup.select('div.gbest-cate ul.by-group li a')\n",
    "\n",
    "for category in categories:\n",
    "    get_category('https://corners.gmarket.co.kr'+ category['href'], category.get_text())\n",
    "    print('https://corners.gmarket.co.kr'+ category['href'], category.get_text())"
   ]
  },
  {
   "cell_type": "code",
   "execution_count": null,
   "id": "da1f8b4f",
   "metadata": {},
   "outputs": [],
   "source": []
  }
 ],
 "metadata": {
  "kernelspec": {
   "display_name": "Python 3 (ipykernel)",
   "language": "python",
   "name": "python3"
  },
  "language_info": {
   "codemirror_mode": {
    "name": "ipython",
    "version": 3
   },
   "file_extension": ".py",
   "mimetype": "text/x-python",
   "name": "python",
   "nbconvert_exporter": "python",
   "pygments_lexer": "ipython3",
   "version": "3.9.12"
  }
 },
 "nbformat": 4,
 "nbformat_minor": 5
}
